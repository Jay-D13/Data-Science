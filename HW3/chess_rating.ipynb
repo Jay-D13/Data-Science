{
 "cells": [
  {
   "cell_type": "markdown",
   "id": "7bfb7c5a-e145-49ed-adb7-be1802339d86",
   "metadata": {
    "tags": []
   },
   "source": [
    "# IFT 6758 - Devoir 3 \n",
    "\n",
    "### Pt 2. Classement d'éches\n",
    "**Comparaison des groupes sur/sous-représentés**\n",
    "\n",
    "Evaluation de ce notebook :\n",
    "\n",
    "- Graphiques pour les distributions de scores et d'écarts\n",
    "- Résultats imprimés des tests de permutation\n",
    "- Réponses courtes (dernière section)\n"
   ]
  },
  {
   "cell_type": "code",
   "execution_count": 125,
   "id": "29c86155-6836-47f7-9b7b-e3b17ef2e233",
   "metadata": {},
   "outputs": [
    {
     "name": "stdout",
     "output_type": "stream",
     "text": [
      "The autoreload extension is already loaded. To reload it, use:\n",
      "  %reload_ext autoreload\n"
     ]
    }
   ],
   "source": [
    "%load_ext autoreload\n",
    "%autoreload 2"
   ]
  },
  {
   "cell_type": "code",
   "execution_count": 126,
   "id": "06160bcc-d246-4765-a862-18e6ce364ad1",
   "metadata": {},
   "outputs": [],
   "source": [
    "from pathlib import Path\n",
    "import pandas as pd\n",
    "import numpy as np\n",
    "import matplotlib.pyplot as plt\n",
    "import seaborn as sns\n",
    "import random\n",
    "sns.set()"
   ]
  },
  {
   "cell_type": "code",
   "execution_count": 127,
   "id": "1c5c07eb-9b17-41f6-9d11-1e34d2730481",
   "metadata": {},
   "outputs": [],
   "source": [
    "import chess_rating"
   ]
  },
  {
   "cell_type": "markdown",
   "id": "6aeda9a9-d48c-44bb-9352-fd813652b603",
   "metadata": {
    "tags": []
   },
   "source": [
    "## 1. Chargez les données"
   ]
  },
  {
   "cell_type": "markdown",
   "id": "c577daef-6bb6-4fe7-940f-f8f5801b6248",
   "metadata": {},
   "source": [
    "### 1.1 Lire les données XML"
   ]
  },
  {
   "cell_type": "code",
   "execution_count": 128,
   "id": "23f719d7-036d-4fbb-9fe0-a345b3ffacdd",
   "metadata": {},
   "outputs": [],
   "source": [
    "xml_path = Path(\"data/standard_oct22frl_xml.xml\")  # shouldn't need to change this"
   ]
  },
  {
   "cell_type": "code",
   "execution_count": 129,
   "id": "520c7577-69ce-4a1f-b3d2-95a4d5e4c8a5",
   "metadata": {},
   "outputs": [],
   "source": [
    "# TODO: Complétez cette méthode dans chess_ratings.py\n",
    "raw_df = chess_rating.parse_xml(xml_path)"
   ]
  },
  {
   "cell_type": "code",
   "execution_count": 130,
   "id": "06a0c309-c7d3-4c96-bedf-777301f7f62d",
   "metadata": {},
   "outputs": [
    {
     "data": {
      "text/html": [
       "<div>\n",
       "<style scoped>\n",
       "    .dataframe tbody tr th:only-of-type {\n",
       "        vertical-align: middle;\n",
       "    }\n",
       "\n",
       "    .dataframe tbody tr th {\n",
       "        vertical-align: top;\n",
       "    }\n",
       "\n",
       "    .dataframe thead th {\n",
       "        text-align: right;\n",
       "    }\n",
       "</style>\n",
       "<table border=\"1\" class=\"dataframe\">\n",
       "  <thead>\n",
       "    <tr style=\"text-align: right;\">\n",
       "      <th></th>\n",
       "      <th>name</th>\n",
       "      <th>rating</th>\n",
       "      <th>sex</th>\n",
       "      <th>birthday</th>\n",
       "      <th>country</th>\n",
       "      <th>flag</th>\n",
       "      <th>title</th>\n",
       "    </tr>\n",
       "  </thead>\n",
       "  <tbody>\n",
       "    <tr>\n",
       "      <th>42279</th>\n",
       "      <td>Bistriceanu, Traian</td>\n",
       "      <td>1423</td>\n",
       "      <td>M</td>\n",
       "      <td>2004</td>\n",
       "      <td>ROU</td>\n",
       "      <td>i</td>\n",
       "      <td>None</td>\n",
       "    </tr>\n",
       "    <tr>\n",
       "      <th>370989</th>\n",
       "      <td>Varaljai, Attila</td>\n",
       "      <td>2214</td>\n",
       "      <td>M</td>\n",
       "      <td>1962</td>\n",
       "      <td>HUN</td>\n",
       "      <td>i</td>\n",
       "      <td>None</td>\n",
       "    </tr>\n",
       "    <tr>\n",
       "      <th>131848</th>\n",
       "      <td>Gunin, Pavel</td>\n",
       "      <td>2186</td>\n",
       "      <td>M</td>\n",
       "      <td>1986</td>\n",
       "      <td>RUS</td>\n",
       "      <td>i</td>\n",
       "      <td>None</td>\n",
       "    </tr>\n",
       "    <tr>\n",
       "      <th>194986</th>\n",
       "      <td>Le Corronc, Alan</td>\n",
       "      <td>1263</td>\n",
       "      <td>M</td>\n",
       "      <td>2007</td>\n",
       "      <td>FRA</td>\n",
       "      <td>None</td>\n",
       "      <td>None</td>\n",
       "    </tr>\n",
       "    <tr>\n",
       "      <th>88303</th>\n",
       "      <td>Dolmer, William</td>\n",
       "      <td>1165</td>\n",
       "      <td>M</td>\n",
       "      <td>2004</td>\n",
       "      <td>CAN</td>\n",
       "      <td>None</td>\n",
       "      <td>None</td>\n",
       "    </tr>\n",
       "  </tbody>\n",
       "</table>\n",
       "</div>"
      ],
      "text/plain": [
       "                       name rating sex birthday country  flag title\n",
       "42279   Bistriceanu, Traian   1423   M     2004     ROU     i  None\n",
       "370989     Varaljai, Attila   2214   M     1962     HUN     i  None\n",
       "131848         Gunin, Pavel   2186   M     1986     RUS     i  None\n",
       "194986     Le Corronc, Alan   1263   M     2007     FRA  None  None\n",
       "88303       Dolmer, William   1165   M     2004     CAN  None  None"
      ]
     },
     "execution_count": 130,
     "metadata": {},
     "output_type": "execute_result"
    }
   ],
   "source": [
    "# Vérifiez pour voir un échantillon de 5 joueurs\n",
    "random.seed(0)\n",
    "raw_df.sample(5)"
   ]
  },
  {
   "cell_type": "code",
   "execution_count": 131,
   "id": "ef34ba55-5682-4b27-8c24-f3d04507456c",
   "metadata": {},
   "outputs": [
    {
     "data": {
      "text/plain": [
       "name        object\n",
       "rating      object\n",
       "sex         object\n",
       "birthday    object\n",
       "country     object\n",
       "flag        object\n",
       "title       object\n",
       "dtype: object"
      ]
     },
     "execution_count": 131,
     "metadata": {},
     "output_type": "execute_result"
    }
   ],
   "source": [
    "# Vérifiez pour voir les dtypes du dataframe brut\n",
    "raw_df.dtypes"
   ]
  },
  {
   "cell_type": "code",
   "execution_count": 132,
   "id": "07e1099c-035d-4a50-8964-7779d5b648ec",
   "metadata": {},
   "outputs": [
    {
     "data": {
      "text/plain": [
       "8477"
      ]
     },
     "execution_count": 132,
     "metadata": {},
     "output_type": "execute_result"
    }
   ],
   "source": [
    "# Voir il y a combien de dates de naissance manquantes\n",
    "raw_df.birthday.isnull().sum()"
   ]
  },
  {
   "cell_type": "markdown",
   "id": "61b67982-37d5-4e9c-a2d9-807d31be50ed",
   "metadata": {},
   "source": [
    "### 1.2 Nettoyez les données\n",
    "\n",
    "Nous voulons que les anniversaires (année de naissance) et le score (Elo) soient convertis en nombres entiers afin que nous puissions faire des opérations numériques/logiques avec eux (par exemple, moins que, plus grand que, etc.). Complétez la méthode `clean_data()` dans `chess_rating.py`"
   ]
  },
  {
   "cell_type": "code",
   "execution_count": 133,
   "id": "747820df-2d1f-44b5-92aa-9e952730d361",
   "metadata": {},
   "outputs": [],
   "source": [
    "# TODO: Complétez cette méthode dans chess_ratings.py\n",
    "df = chess_rating.clean_data(raw_df, 2002)"
   ]
  },
  {
   "cell_type": "code",
   "execution_count": 134,
   "id": "3f2fb988-7d1e-4521-a534-83c713c8627f",
   "metadata": {},
   "outputs": [
    {
     "data": {
      "text/html": [
       "<div>\n",
       "<style scoped>\n",
       "    .dataframe tbody tr th:only-of-type {\n",
       "        vertical-align: middle;\n",
       "    }\n",
       "\n",
       "    .dataframe tbody tr th {\n",
       "        vertical-align: top;\n",
       "    }\n",
       "\n",
       "    .dataframe thead th {\n",
       "        text-align: right;\n",
       "    }\n",
       "</style>\n",
       "<table border=\"1\" class=\"dataframe\">\n",
       "  <thead>\n",
       "    <tr style=\"text-align: right;\">\n",
       "      <th></th>\n",
       "      <th>name</th>\n",
       "      <th>rating</th>\n",
       "      <th>sex</th>\n",
       "      <th>birthday</th>\n",
       "      <th>country</th>\n",
       "      <th>flag</th>\n",
       "      <th>title</th>\n",
       "    </tr>\n",
       "  </thead>\n",
       "  <tbody>\n",
       "    <tr>\n",
       "      <th>206801</th>\n",
       "      <td>Lutzen, Mads</td>\n",
       "      <td>1542</td>\n",
       "      <td>M</td>\n",
       "      <td>2000-01-01</td>\n",
       "      <td>DEN</td>\n",
       "      <td>i</td>\n",
       "      <td>None</td>\n",
       "    </tr>\n",
       "    <tr>\n",
       "      <th>296314</th>\n",
       "      <td>Rieckers, Dirk</td>\n",
       "      <td>1397</td>\n",
       "      <td>M</td>\n",
       "      <td>1964-01-01</td>\n",
       "      <td>GER</td>\n",
       "      <td>i</td>\n",
       "      <td>None</td>\n",
       "    </tr>\n",
       "    <tr>\n",
       "      <th>120235</th>\n",
       "      <td>Gil, Celsio</td>\n",
       "      <td>1752</td>\n",
       "      <td>M</td>\n",
       "      <td>1999-01-01</td>\n",
       "      <td>STP</td>\n",
       "      <td>i</td>\n",
       "      <td>None</td>\n",
       "    </tr>\n",
       "    <tr>\n",
       "      <th>147860</th>\n",
       "      <td>Hurwitz, Ed J G</td>\n",
       "      <td>2023</td>\n",
       "      <td>M</td>\n",
       "      <td>1964-01-01</td>\n",
       "      <td>ENG</td>\n",
       "      <td>i</td>\n",
       "      <td>None</td>\n",
       "    </tr>\n",
       "    <tr>\n",
       "      <th>124743</th>\n",
       "      <td>Gonzalez Gomez, Pedro Daniel</td>\n",
       "      <td>1539</td>\n",
       "      <td>M</td>\n",
       "      <td>1997-01-01</td>\n",
       "      <td>ESP</td>\n",
       "      <td>None</td>\n",
       "      <td>None</td>\n",
       "    </tr>\n",
       "  </tbody>\n",
       "</table>\n",
       "</div>"
      ],
      "text/plain": [
       "                                name  rating sex   birthday country  flag  \\\n",
       "206801                  Lutzen, Mads    1542   M 2000-01-01     DEN     i   \n",
       "296314                Rieckers, Dirk    1397   M 1964-01-01     GER     i   \n",
       "120235                   Gil, Celsio    1752   M 1999-01-01     STP     i   \n",
       "147860               Hurwitz, Ed J G    2023   M 1964-01-01     ENG     i   \n",
       "124743  Gonzalez Gomez, Pedro Daniel    1539   M 1997-01-01     ESP  None   \n",
       "\n",
       "       title  \n",
       "206801  None  \n",
       "296314  None  \n",
       "120235  None  \n",
       "147860  None  \n",
       "124743  None  "
      ]
     },
     "execution_count": 134,
     "metadata": {},
     "output_type": "execute_result"
    }
   ],
   "source": [
    "np.random.seed(0)\n",
    "df.sample(5)"
   ]
  },
  {
   "cell_type": "code",
   "execution_count": 135,
   "id": "6bd27b89-275f-48a4-b10e-20062b7767b9",
   "metadata": {},
   "outputs": [
    {
     "data": {
      "text/plain": [
       "name                object\n",
       "rating               int64\n",
       "sex                 object\n",
       "birthday    datetime64[ns]\n",
       "country             object\n",
       "flag                object\n",
       "title               object\n",
       "dtype: object"
      ]
     },
     "execution_count": 135,
     "metadata": {},
     "output_type": "execute_result"
    }
   ],
   "source": [
    "df.dtypes"
   ]
  },
  {
   "cell_type": "code",
   "execution_count": 136,
   "id": "8bd092db-fc9f-45ce-bb63-1c0857c3d9ac",
   "metadata": {},
   "outputs": [
    {
     "data": {
      "text/plain": [
       "0"
      ]
     },
     "execution_count": 136,
     "metadata": {},
     "output_type": "execute_result"
    }
   ],
   "source": [
    "df.birthday.isnull().sum()"
   ]
  },
  {
   "cell_type": "markdown",
   "id": "a4a77bef-61ac-4670-bccf-6f66c40f9333",
   "metadata": {},
   "source": [
    "## 2. Histogrammes des scores Elo\n",
    "\n",
    "Nous voulons d'abord comparer la distribution des scores pour les joueurs masculins et féminins.\n",
    "Étant donné que les données sont assez fines, nous devrons regrouper les notes.\n",
    "Complétez `bin_counts()`, qui devrait gérer le binning pour les données arbitraires et le choix des bacs.\n",
    "En plus de renvoyer les décomptes bruts, renvoyez également les décomptes normalisés dans la trame de données (`\"count_norm\"`)."
   ]
  },
  {
   "cell_type": "markdown",
   "id": "4aaff953-66cd-430b-bd67-a2a50def326d",
   "metadata": {},
   "source": [
    "### 2.1 Binning data\n",
    "\n",
    "Voici quelques entrées de test pour vous aider à valider votre implémentation :"
   ]
  },
  {
   "cell_type": "code",
   "execution_count": 203,
   "id": "926c545c-4123-47b7-9031-f8478d9fcde5",
   "metadata": {},
   "outputs": [],
   "source": [
    "# sample inputs to help test your method\n",
    "x = pd.DataFrame({'rating': [1, 2, 4, 6, 6, 7, 8, 11] })\n",
    "bins = [0, 5, 10, 15]\n",
    "bin_centers = [2.5, 7.5, 12.5]\n",
    "\n",
    "# Output attendu\n",
    "solution = pd.DataFrame({\n",
    "    'rating': {0: 7.5, 1: 2.5, 2: 12.5},\n",
    "     'count': {0: 4, 1: 3, 2: 1},\n",
    "     'count_norm': {0: 0.5, 1: 0.375, 2: 0.125}\n",
    "})"
   ]
  },
  {
   "cell_type": "code",
   "execution_count": 206,
   "id": "3c81bf4d",
   "metadata": {},
   "outputs": [
    {
     "data": {
      "text/html": [
       "<div>\n",
       "<style scoped>\n",
       "    .dataframe tbody tr th:only-of-type {\n",
       "        vertical-align: middle;\n",
       "    }\n",
       "\n",
       "    .dataframe tbody tr th {\n",
       "        vertical-align: top;\n",
       "    }\n",
       "\n",
       "    .dataframe thead th {\n",
       "        text-align: right;\n",
       "    }\n",
       "</style>\n",
       "<table border=\"1\" class=\"dataframe\">\n",
       "  <thead>\n",
       "    <tr style=\"text-align: right;\">\n",
       "      <th></th>\n",
       "      <th>rating</th>\n",
       "      <th>count</th>\n",
       "      <th>count_norm</th>\n",
       "    </tr>\n",
       "  </thead>\n",
       "  <tbody>\n",
       "    <tr>\n",
       "      <th>0</th>\n",
       "      <td>7.5</td>\n",
       "      <td>4</td>\n",
       "      <td>0.500</td>\n",
       "    </tr>\n",
       "    <tr>\n",
       "      <th>1</th>\n",
       "      <td>2.5</td>\n",
       "      <td>3</td>\n",
       "      <td>0.375</td>\n",
       "    </tr>\n",
       "    <tr>\n",
       "      <th>2</th>\n",
       "      <td>12.5</td>\n",
       "      <td>1</td>\n",
       "      <td>0.125</td>\n",
       "    </tr>\n",
       "  </tbody>\n",
       "</table>\n",
       "</div>"
      ],
      "text/plain": [
       "   rating  count  count_norm\n",
       "0     7.5      4       0.500\n",
       "1     2.5      3       0.375\n",
       "2    12.5      1       0.125"
      ]
     },
     "execution_count": 206,
     "metadata": {},
     "output_type": "execute_result"
    }
   ],
   "source": [
    "solution"
   ]
  },
  {
   "cell_type": "code",
   "execution_count": 207,
   "id": "d9c34ecb-7a7e-460c-b6fd-0a8d5c8613a7",
   "metadata": {},
   "outputs": [
    {
     "data": {
      "text/html": [
       "<div>\n",
       "<style scoped>\n",
       "    .dataframe tbody tr th:only-of-type {\n",
       "        vertical-align: middle;\n",
       "    }\n",
       "\n",
       "    .dataframe tbody tr th {\n",
       "        vertical-align: top;\n",
       "    }\n",
       "\n",
       "    .dataframe thead th {\n",
       "        text-align: right;\n",
       "    }\n",
       "</style>\n",
       "<table border=\"1\" class=\"dataframe\">\n",
       "  <thead>\n",
       "    <tr style=\"text-align: right;\">\n",
       "      <th></th>\n",
       "      <th>rating</th>\n",
       "      <th>count</th>\n",
       "      <th>count_norm</th>\n",
       "    </tr>\n",
       "  </thead>\n",
       "  <tbody>\n",
       "    <tr>\n",
       "      <th>0</th>\n",
       "      <td>7.5</td>\n",
       "      <td>4</td>\n",
       "      <td>0.500</td>\n",
       "    </tr>\n",
       "    <tr>\n",
       "      <th>1</th>\n",
       "      <td>2.5</td>\n",
       "      <td>3</td>\n",
       "      <td>0.375</td>\n",
       "    </tr>\n",
       "    <tr>\n",
       "      <th>2</th>\n",
       "      <td>12.5</td>\n",
       "      <td>1</td>\n",
       "      <td>0.125</td>\n",
       "    </tr>\n",
       "  </tbody>\n",
       "</table>\n",
       "</div>"
      ],
      "text/plain": [
       "  rating  count  count_norm\n",
       "0    7.5      4       0.500\n",
       "1    2.5      3       0.375\n",
       "2   12.5      1       0.125"
      ]
     },
     "execution_count": 207,
     "metadata": {},
     "output_type": "execute_result"
    }
   ],
   "source": [
    "binned_output = chess_rating.bin_counts(x, bins, bin_centers)\n",
    "binned_output"
   ]
  },
  {
   "cell_type": "code",
   "execution_count": 208,
   "id": "acbd3f20-7dbf-42ca-bdd2-1f687200d49c",
   "metadata": {},
   "outputs": [
    {
     "data": {
      "text/html": [
       "<div>\n",
       "<style scoped>\n",
       "    .dataframe tbody tr th:only-of-type {\n",
       "        vertical-align: middle;\n",
       "    }\n",
       "\n",
       "    .dataframe tbody tr th {\n",
       "        vertical-align: top;\n",
       "    }\n",
       "\n",
       "    .dataframe thead th {\n",
       "        text-align: right;\n",
       "    }\n",
       "</style>\n",
       "<table border=\"1\" class=\"dataframe\">\n",
       "  <thead>\n",
       "    <tr style=\"text-align: right;\">\n",
       "      <th></th>\n",
       "      <th>rating</th>\n",
       "      <th>count</th>\n",
       "      <th>count_norm</th>\n",
       "    </tr>\n",
       "  </thead>\n",
       "  <tbody>\n",
       "    <tr>\n",
       "      <th>0</th>\n",
       "      <td>True</td>\n",
       "      <td>True</td>\n",
       "      <td>True</td>\n",
       "    </tr>\n",
       "    <tr>\n",
       "      <th>1</th>\n",
       "      <td>True</td>\n",
       "      <td>True</td>\n",
       "      <td>True</td>\n",
       "    </tr>\n",
       "    <tr>\n",
       "      <th>2</th>\n",
       "      <td>True</td>\n",
       "      <td>True</td>\n",
       "      <td>True</td>\n",
       "    </tr>\n",
       "  </tbody>\n",
       "</table>\n",
       "</div>"
      ],
      "text/plain": [
       "   rating  count  count_norm\n",
       "0    True   True        True\n",
       "1    True   True        True\n",
       "2    True   True        True"
      ]
     },
     "execution_count": 208,
     "metadata": {},
     "output_type": "execute_result"
    }
   ],
   "source": [
    "solution.eq(binned_output)"
   ]
  },
  {
   "cell_type": "markdown",
   "id": "0111d9b4-f49f-4740-b097-87d8704034b3",
   "metadata": {},
   "source": [
    "Utilisons cette méthode pour bin les scores M/F et les comparer."
   ]
  },
  {
   "cell_type": "code",
   "execution_count": 209,
   "id": "3e6fe70f-6651-4deb-ab6f-73b29d93aa90",
   "metadata": {},
   "outputs": [],
   "source": [
    "# TODO: Spécifiez les bin counts \n",
    "bins = [i for i in range(1000, 2950, 50)]\n",
    "bin_centers = [i for i in range(1025, 2900, 50)]"
   ]
  },
  {
   "cell_type": "code",
   "execution_count": 210,
   "id": "be10f2b7-5789-48eb-9706-5313e1b41d86",
   "metadata": {},
   "outputs": [],
   "source": [
    "# Générez les données d'histogramme  \n",
    "# TODO: completez chess_rating.bin_counts()\n",
    "M_hist = chess_rating.bin_counts(df.query(\"sex=='M'\"), bins=bins, bin_centers=bin_centers)\n",
    "F_hist = chess_rating.bin_counts(df.query(\"sex=='F'\"), bins=bins, bin_centers=bin_centers)\n",
    "\n",
    "M_hist['sex'] = 'M'\n",
    "F_hist['sex'] = 'F'\n",
    "\n",
    "hist = pd.concat([M_hist, F_hist])"
   ]
  },
  {
   "cell_type": "markdown",
   "id": "51628add-30b4-4f3d-b18c-5634edc9a5fd",
   "metadata": {},
   "source": [
    "À l'aide des données regroupées, tracez deux graphiques linéaires des données regroupées côte à côte; l'un contenant les décomptes bruts (`\"count\"`), et l'autre contenant les décomptes normalisés (`\"count_norm\"`), et M/F doit être de deux couleurs différentes."
   ]
  },
  {
   "cell_type": "code",
   "execution_count": 211,
   "id": "c16c6fc6-8642-4fb2-8808-4d32ce41180c",
   "metadata": {},
   "outputs": [
    {
     "data": {
      "text/plain": [
       "<Axes: xlabel='rating', ylabel='count_norm'>"
      ]
     },
     "execution_count": 211,
     "metadata": {},
     "output_type": "execute_result"
    },
    {
     "data": {
      "image/png": "[encoded data removed]",
      "text/plain": [
       "<Figure size 1440x480 with 2 Axes>"
      ]
     },
     "metadata": {},
     "output_type": "display_data"
    }
   ],
   "source": [
    "# Now draw the two histograms side-by-side. \n",
    "fig, ax = plt.subplots(1,2, figsize=(12, 4), dpi=120)\n",
    "sns.lineplot(data=hist, x=\"rating\", y=\"count\", hue='sex', ax=ax[0])\n",
    "sns.lineplot(data=hist, x=\"rating\", y=\"count_norm\", hue='sex', ax=ax[1])"
   ]
  },
  {
   "cell_type": "markdown",
   "id": "c80ca2ec-6fbd-4974-b600-77ee90782a54",
   "metadata": {},
   "source": [
    "## 3. Tests de Permutation\n",
    "\n",
    "Nous allons maintenant effectuer les tests de permutation comme indiqué dans l'expérience de pensée de l'introduction.\n",
    "Prenez l'ensemble de données nettoyé complet (hommes et femmes) et échantillonnez au hasard deux groupes sans remplacement (c'est-à-dire mélangez les joueurs).\n",
    "La taille des groupes doit refléter la différence du monde réel que nous souhaitons étudier, c'est-à-dire la taille du groupe masculin et féminin.\n",
    "Terminez `chess_rating.PermutationTests.job()`, qui implémente la partie échantillonnage de cette expérience, et renvoie la valeur maximale des groupes surreprésentés et sous-représentés respectivement.\n",
    "\n",
    "Ensuite, complétez la méthode `chess_rating.sample_two_groups()`, qui exécute cette expérience `n_iter` fois.\n",
    "Une fois terminé, exécutez cette expérience dans le bloc-notes avec au moins `n_iter=1000`.\n",
    "Exécutez la cellule qui imprime la différence moyenne obtenue à partir des tests de permutation, ainsi que les différences réelles."
   ]
  },
  {
   "cell_type": "code",
   "execution_count": 291,
   "id": "a32b42c8-5773-4da4-8cae-74eb9c02ffba",
   "metadata": {},
   "outputs": [
    {
     "name": "stderr",
     "output_type": "stream",
     "text": [
      "100%|██████████| 1000/1000 [00:02<00:00, 337.61it/s]\n"
     ]
    }
   ],
   "source": [
    "n_overrep = df.query(\"sex=='M'\").shape[0]\n",
    "n_underrep = df.query(\"sex=='F'\").shape[0]\n",
    "\n",
    "over, under = chess_rating.sample_two_groups(df, n_overrep, n_underrep, n_iter=1000)"
   ]
  },
  {
   "cell_type": "code",
   "execution_count": 292,
   "id": "75acbc10-cc05-462c-b014-80218c6d114f",
   "metadata": {},
   "outputs": [],
   "source": [
    "diffs = over - under\n",
    "max_M, max_F = df.query(\"sex=='M'\").rating.max(), df.query(\"sex=='F'\").rating.max()"
   ]
  },
  {
   "cell_type": "code",
   "execution_count": 293,
   "id": "6d4c8dfd-7a53-4d37-877c-4eaa5539d40d",
   "metadata": {},
   "outputs": [
    {
     "name": "stdout",
     "output_type": "stream",
     "text": [
      "Mean difference between top individuals in the over/under represented groups taken from the permutation experiments:\n",
      "\n",
      "\t86.687 (std=48.63)\n",
      "\n",
      "Real values:\n",
      "\n",
      "\tMax M:\t\t2856\n",
      "\tMax F:\t\t2675\n",
      "\tReal difference: 181\n"
     ]
    }
   ],
   "source": [
    "print(f\"Mean difference between top individuals in the over/under represented groups taken from the permutation experiments:\")\n",
    "print(f\"\\n\\t{diffs.mean()} (std={diffs.std().round(2)})\")\n",
    "print()\n",
    "print(\"Real values:\\n\")\n",
    "print(f\"\\tMax M:\\t\\t{max_M}\")\n",
    "print(f\"\\tMax F:\\t\\t{max_F}\")\n",
    "print(f\"\\tReal difference: {max_M - max_F}\")"
   ]
  },
  {
   "cell_type": "code",
   "execution_count": 294,
   "id": "9c6c4525-b312-4674-901d-ae6f2a17a10e",
   "metadata": {},
   "outputs": [
    {
     "data": {
      "image/png": "[encoded data removed]",
      "text/plain": [
       "<Figure size 640x480 with 1 Axes>"
      ]
     },
     "metadata": {},
     "output_type": "display_data"
    }
   ],
   "source": [
    "fig, ax = plt.subplots(1, 1, dpi=100)\n",
    "sns.histplot(diffs, ax=ax).set(title=\"Histogram of differences\", xlabel=\"max(overrep) - max(underrep)\");"
   ]
  },
  {
   "cell_type": "markdown",
   "id": "a901194d-3d33-4a97-af01-b2327c7f310f",
   "metadata": {},
   "source": [
    "# Questions \n",
    "\n",
    "Donnez des réponses courtes aux questions suivantes (1-3 lignes chaques)."
   ]
  },
  {
   "cell_type": "markdown",
   "id": "b431f598-19f1-4955-82f8-331397fdfbd8",
   "metadata": {},
   "source": [
    "1. Interprétez les résultats - pouvez-vous tirer une conclusion ? Rappelez-vous que l'affirmation discutée dans l'introduction de cette question était \"les hommes sont meilleurs que les femmes aux échecs parce que la plupart des meilleurs joueurs sont des hommes\". (Remarque : probablement une partie de votre réponse ici sera liée à votre réponse à la question suivante.)\n",
    "\n",
    "*Réponse:* On observe une différence moyenne des scores maximums des groupes sur/sous-représentés de 86.687 avec un écart-type de 48.63. Par ailleurs, la valeure réelle de la différence entre le score maximum des hommes et des femmes est de 181, qui est nettement supérieure à la différence moyenne obtenue. Cependant, un biais de sélection est en jeu car le groupe surreprésenté (les hommes) beaucoup plus grand que le groupe sous-représenté (femmes). Il est donc fort probable que les scores soient plus élevés en raison d'un plus grand échantillon.\n",
    "\n",
    "\n",
    "2. Pensez-vous que les chiffres obtenus ici racontent toute l'histoire ? Quels pourraient être les problèmes avec l'analyse menée ici ? Les données avec lesquelles nous travaillons sont-elles biaisées d'une quelconque manière (autre qu'un biais de surreprésentation) ? L'ELO est-il une bonne mesure et peut-il être utilisé pour répondre à la question initiale ? Existe-t-il des différences dans le traitement social, culturel et systémique des hommes et des femmes qui peuvent empêcher le groupe sous-représenté d'obtenir des résultats similaires ? Rien d'autre?\n",
    "\n",
    "*Réponse:* \n",
    "Effectivement, les chiffres ne racontent pas tout et il manque une grande partie de l'histoire. Tout d'abord, comme mentionné précédemment, les femmes sont nettement moins représentées dans les échecs. Cette faible représentation peut être significativement influencé par divers facteurs extérieurs et des biais historiques. \n",
    "\n",
    "Historiquement, les femmes ont souvent eu un accès restreint aux échecs, en raison des normes et attentes sociales et culturelles restrictive.\n",
    "Les femmes dans les échecs fonc facent a des obstacles qui entravent leurs progressions et leurs performances. Cela inclut les stéréotypes de genre qui peuvent réduire leur confiance, le manque de modèles féminins dans les échecs de haut niveau, et un environnement qui peut parfois être moins accueillant er même hostile. \n",
    "\n",
    "D'autre part, plusieurs femmes de haut niveau ont reporté des expériences de discrimination et de harcèlement lors tournois d'échecs, illustrant des défis supplémentaires qu'elles peuvent rencontrer. Un exemple récent peut être trouvé ici : [Eight Women Accuse Chess Grandmaster Ramirez Of Sexual Misconduct](https://www.forbes.com/sites/anafaguy/2023/03/07/eight-women-accuse-chess-grandmaster-ramirez-of-sexual-misconduct-report-says/?sh=67ef3ba53542).\n",
    "\n",
    "L'ELO n'est pas une mesure parfaite de la compétence aux échecs, surtout lorsqu'on considère que les femmes, étant moins nombreuses dans les échecs, ont souvent moins d'opportunités de jouer contre des adversaires du même sexe et de s'étendre en s'entraînant contre des hommes. Les compétitions sont souvent (même trop souvent) séparées entre genre! Cela pourrait limiter leur capacité à augmenter leur ELO, étant donné que le système ELO récompense ou pénalise les joueurs en fonction du classement de leurs adversaires. Les femmes sont tout aussi capable que les hommes mais leur ELO leur empechent de le prouver: [Judit Polgar qui bat Magnus Carlsen dans un match de blitz amical ;) (pas la première fois!)](https://www.youtube.com/watch?v=hvbZCRid5CY)\n",
    "\n",
    "On espére voir une amélioration pour les femmes dans le monde des échecs. On observe de plus en plus de modèles féminins et du contenu de média qui soulèvent ces problèmes, comme dans \"Queen's Gambit\" ou dans le monde du streaming avec les Botez Sisters.\n"
   ]
  },
  {
   "cell_type": "markdown",
   "id": "b186e008",
   "metadata": {},
   "source": [
    "Le but de ces questions est de souligner que les données sont une représentation limitée du monde réel. Il est essentiel pour nous, en tant que scientifiques des données, de prendre du recul lorsque nous examinons un résultat et de réfléchir à la façon dont il est lié au monde réel, plutôt que de simplement supposer naïvement que les données et la configuration expérimentale sont bonnes, ce qui entraîne souvent des conclusions erronées/incorrectes. Il pourrait y avoir plusieurs facteurs de causalité qui expliquent une relation qui sont indépendants de l'hypothèse d'origine: utilisation de données qui ne reflètent pas vraiment l'hypothèse que vous souhaitez tester, données biaisées (y compris les groupes surreprésentés), différences systémiques réelles entre les groupes, etc."
   ]
  },
  {
   "cell_type": "markdown",
   "id": "daa7ca34",
   "metadata": {},
   "source": []
  }
 ],
 "metadata": {
  "kernelspec": {
   "display_name": "ift6758",
   "language": "python",
   "name": "python3"
  },
  "language_info": {
   "codemirror_mode": {
    "name": "ipython",
    "version": 3
   },
   "file_extension": ".py",
   "mimetype": "text/x-python",
   "name": "python",
   "nbconvert_exporter": "python",
   "pygments_lexer": "ipython3",
   "version": "3.11.5"
  }
 },
 "nbformat": 4,
 "nbformat_minor": 5
}
